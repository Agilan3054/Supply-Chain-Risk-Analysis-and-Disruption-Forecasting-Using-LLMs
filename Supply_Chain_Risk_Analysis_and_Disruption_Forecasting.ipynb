{
  "nbformat": 4,
  "nbformat_minor": 0,
  "metadata": {
    "colab": {
      "provenance": []
    },
    "kernelspec": {
      "name": "python3",
      "display_name": "Python 3"
    },
    "language_info": {
      "name": "python"
    }
  },
  "cells": [
    {
      "cell_type": "code",
      "execution_count": 29,
      "metadata": {
        "colab": {
          "base_uri": "https://localhost:8080/"
        },
        "id": "V2fzFxGLPKkv",
        "outputId": "ba38ba48-dd6f-4b21-b3d1-a5384684ee9f"
      },
      "outputs": [
        {
          "output_type": "stream",
          "name": "stdout",
          "text": [
            "Requirement already satisfied: requests in /usr/local/lib/python3.10/dist-packages (2.32.3)\n",
            "Requirement already satisfied: charset-normalizer<4,>=2 in /usr/local/lib/python3.10/dist-packages (from requests) (3.3.2)\n",
            "Requirement already satisfied: idna<4,>=2.5 in /usr/local/lib/python3.10/dist-packages (from requests) (3.10)\n",
            "Requirement already satisfied: urllib3<3,>=1.21.1 in /usr/local/lib/python3.10/dist-packages (from requests) (2.2.3)\n",
            "Requirement already satisfied: certifi>=2017.4.17 in /usr/local/lib/python3.10/dist-packages (from requests) (2024.8.30)\n"
          ]
        }
      ],
      "source": [
        "pip install requests"
      ]
    },
    {
      "cell_type": "markdown",
      "source": [
        "**Fetch data from News API**"
      ],
      "metadata": {
        "id": "z_R3-Ipagqqh"
      }
    },
    {
      "cell_type": "code",
      "source": [
        "import requests\n",
        "import pandas as pd\n",
        "\n",
        "# Replace with your own API key from NewsAPI\n",
        "API_KEY = 'bcf8082cc62342c2ad155e9399aa6a03'\n",
        "url = 'https://newsapi.org/v2/everything'\n",
        "\n",
        "# Fetch articles related to supply chain disruptions\n",
        "params = {\n",
        "    'q': 'supply chain disruption OR supplier risk OR logistics delay',\n",
        "    'language': 'en',\n",
        "    'pageSize': 100,\n",
        "    'apiKey': API_KEY\n",
        "}\n",
        "\n",
        "response = requests.get(url, params=params)\n",
        "news_data = response.json()"
      ],
      "metadata": {
        "id": "JSJBFqaKPmKa"
      },
      "execution_count": 30,
      "outputs": []
    },
    {
      "cell_type": "code",
      "source": [
        "# Convert articles into a pandas DataFrame\n",
        "articles = news_data['articles']\n",
        "df = pd.DataFrame(articles)\n",
        "df = df[['title', 'description', 'url', 'publishedAt', 'content']]\n",
        "\n",
        "# Display the collected news data\n",
        "print(df.head())"
      ],
      "metadata": {
        "colab": {
          "base_uri": "https://localhost:8080/"
        },
        "id": "cY7sbGU1SkLJ",
        "outputId": "bdce7a86-2262-4673-eef0-9fdd9bf2ca07"
      },
      "execution_count": 31,
      "outputs": [
        {
          "output_type": "stream",
          "name": "stdout",
          "text": [
            "                                               title  \\\n",
            "0              U.S. Faces Critical IV Fluid Shortage   \n",
            "1  Get ready for a dockworker strike that could d...   \n",
            "2  There's already a queue of cargo ships backing...   \n",
            "3  New Jersey hits pause on an offshore wind farm...   \n",
            "4  East Coast Port Strikes: What Businesses Can D...   \n",
            "\n",
            "                                         description  \\\n",
            "0  A major IV fluid supplier has temporarily lost...   \n",
            "1  An October strike on shipping docks along the ...   \n",
            "2  Ship tracking data show a growing number of ca...   \n",
            "3  New Jersey has hit pause on an offshore wind e...   \n",
            "4  East Coast port strikes could have a significa...   \n",
            "\n",
            "                                                 url           publishedAt  \\\n",
            "0  https://gizmodo.com/u-s-faces-critical-iv-flui...  2024-10-10T15:50:19Z   \n",
            "1  https://www.businessinsider.com/dockworker-str...  2024-09-24T08:29:02Z   \n",
            "2  https://www.businessinsider.com/queue-of-cargo...  2024-10-03T10:00:05Z   \n",
            "3  https://abcnews.go.com/US/wireStory/new-jersey...  2024-09-25T16:38:16Z   \n",
            "4  https://www.forbes.com/sites/sap/2024/09/30/ea...  2024-09-30T15:43:14Z   \n",
            "\n",
            "                                             content  \n",
            "0  The slew of hurricanes bombarding the eastern ...  \n",
            "1  iStock; Rebecca Zisser/BI\\r\\n<ul><li>The Inter...  \n",
            "2  A container ship at a facility in Bayonne, New...  \n",
            "3  TRENTON, N.J. -- New Jersey hit the pause butt...  \n",
            "4  A port at standstill\\r\\ngetty\\r\\nThe holiday s...  \n"
          ]
        }
      ]
    },
    {
      "cell_type": "markdown",
      "source": [
        "**Data Preprocessing**"
      ],
      "metadata": {
        "id": "J-wAK3akg3Wm"
      }
    },
    {
      "cell_type": "code",
      "source": [
        "import nltk\n",
        "from nltk.corpus import stopwords\n",
        "from nltk.tokenize import word_tokenize\n",
        "\n",
        "nltk.download('punkt')\n",
        "nltk.download('stopwords')"
      ],
      "metadata": {
        "colab": {
          "base_uri": "https://localhost:8080/"
        },
        "id": "0U5HaG80PtYV",
        "outputId": "6e0099c9-e24a-4f03-aa8b-2ae081655c0e"
      },
      "execution_count": 32,
      "outputs": [
        {
          "output_type": "stream",
          "name": "stderr",
          "text": [
            "[nltk_data] Downloading package punkt to /root/nltk_data...\n",
            "[nltk_data]   Package punkt is already up-to-date!\n",
            "[nltk_data] Downloading package stopwords to /root/nltk_data...\n",
            "[nltk_data]   Package stopwords is already up-to-date!\n"
          ]
        },
        {
          "output_type": "execute_result",
          "data": {
            "text/plain": [
              "True"
            ]
          },
          "metadata": {},
          "execution_count": 32
        }
      ]
    },
    {
      "cell_type": "code",
      "source": [
        "def preprocess_text(text):\n",
        "    tokens = word_tokenize(text.lower())\n",
        "    tokens = [word for word in tokens if word.isalnum()]\n",
        "    tokens = [word for word in tokens if word not in stopwords.words('english')]\n",
        "    return ' '.join(tokens)"
      ],
      "metadata": {
        "id": "9r0TZF7wSo4o"
      },
      "execution_count": 33,
      "outputs": []
    },
    {
      "cell_type": "code",
      "source": [
        "# Apply text preprocessing to the news content\n",
        "df['cleaned_content'] = df['content'].apply(lambda x: preprocess_text(x) if x else '')\n",
        "print(df[['title', 'cleaned_content']].head())"
      ],
      "metadata": {
        "colab": {
          "base_uri": "https://localhost:8080/"
        },
        "id": "AeZnv5-VSvGF",
        "outputId": "47de67a3-c001-4acf-ff51-2c13e3526f05"
      },
      "execution_count": 34,
      "outputs": [
        {
          "output_type": "stream",
          "name": "stdout",
          "text": [
            "                                               title  \\\n",
            "0              U.S. Faces Critical IV Fluid Shortage   \n",
            "1  Get ready for a dockworker strike that could d...   \n",
            "2  There's already a queue of cargo ships backing...   \n",
            "3  New Jersey hits pause on an offshore wind farm...   \n",
            "4  East Coast Port Strikes: What Businesses Can D...   \n",
            "\n",
            "                                     cleaned_content  \n",
            "0  slew hurricanes bombarding eastern late indire...  \n",
            "1  istock rebecca ul li international longshorema...  \n",
            "2  container ship facility bayonne new jersey ima...  \n",
            "3  trenton new jersey hit pause button wednesday ...  \n",
            "4  port standstill getty holiday season around co...  \n"
          ]
        }
      ]
    },
    {
      "cell_type": "markdown",
      "source": [
        "**Named Entity Recognition (NER) with spaCy**"
      ],
      "metadata": {
        "id": "NU55x4DFhJtK"
      }
    },
    {
      "cell_type": "code",
      "source": [
        "import spacy\n",
        "\n",
        "nlp = spacy.load('en_core_web_sm')"
      ],
      "metadata": {
        "id": "2HylVfpTPwue"
      },
      "execution_count": 35,
      "outputs": []
    },
    {
      "cell_type": "code",
      "source": [
        "def extract_entities(text):\n",
        "    doc = nlp(text)\n",
        "    return [(ent.text, ent.label_) for ent in doc.ents]"
      ],
      "metadata": {
        "id": "zROp60n5S1Im"
      },
      "execution_count": 36,
      "outputs": []
    },
    {
      "cell_type": "code",
      "source": [
        "# Apply NER on the cleaned content\n",
        "df['entities'] = df['cleaned_content'].apply(lambda x: extract_entities(x) if x else [])\n",
        "print(df[['title', 'entities']].head())"
      ],
      "metadata": {
        "colab": {
          "base_uri": "https://localhost:8080/"
        },
        "id": "72dk3ptVS3pl",
        "outputId": "a6f1e039-a0f8-4c18-b53c-bd41f4769a2d"
      },
      "execution_count": 37,
      "outputs": [
        {
          "output_type": "stream",
          "name": "stdout",
          "text": [
            "                                               title  \\\n",
            "0              U.S. Faces Critical IV Fluid Shortage   \n",
            "1  Get ready for a dockworker strike that could d...   \n",
            "2  There's already a queue of cargo ships backing...   \n",
            "3  New Jersey hits pause on an offshore wind farm...   \n",
            "4  East Coast Port Strikes: What Businesses Can D...   \n",
            "\n",
            "                                            entities  \n",
            "0                                                 []  \n",
            "1  [(li international longshoreman association, O...  \n",
            "2       [(new jersey, GPE), (li, PERSON), (us, GPE)]  \n",
            "3  [(new jersey, GPE), (wednesday, DATE), (jersey...  \n",
            "4                                     [(year, DATE)]  \n"
          ]
        }
      ]
    },
    {
      "cell_type": "markdown",
      "source": [
        "**Summarization with Pre-trained LLM**"
      ],
      "metadata": {
        "id": "VoJoeAXdhR9P"
      }
    },
    {
      "cell_type": "code",
      "source": [
        "pip install transformers"
      ],
      "metadata": {
        "colab": {
          "base_uri": "https://localhost:8080/"
        },
        "collapsed": true,
        "id": "O1HBXPcbP2Ey",
        "outputId": "e8c318a1-0064-4a6d-ca75-b6fd6cb9b166"
      },
      "execution_count": 38,
      "outputs": [
        {
          "output_type": "stream",
          "name": "stdout",
          "text": [
            "Requirement already satisfied: transformers in /usr/local/lib/python3.10/dist-packages (4.44.2)\n",
            "Requirement already satisfied: filelock in /usr/local/lib/python3.10/dist-packages (from transformers) (3.16.1)\n",
            "Requirement already satisfied: huggingface-hub<1.0,>=0.23.2 in /usr/local/lib/python3.10/dist-packages (from transformers) (0.24.7)\n",
            "Requirement already satisfied: numpy>=1.17 in /usr/local/lib/python3.10/dist-packages (from transformers) (1.26.4)\n",
            "Requirement already satisfied: packaging>=20.0 in /usr/local/lib/python3.10/dist-packages (from transformers) (24.1)\n",
            "Requirement already satisfied: pyyaml>=5.1 in /usr/local/lib/python3.10/dist-packages (from transformers) (6.0.2)\n",
            "Requirement already satisfied: regex!=2019.12.17 in /usr/local/lib/python3.10/dist-packages (from transformers) (2024.9.11)\n",
            "Requirement already satisfied: requests in /usr/local/lib/python3.10/dist-packages (from transformers) (2.32.3)\n",
            "Requirement already satisfied: safetensors>=0.4.1 in /usr/local/lib/python3.10/dist-packages (from transformers) (0.4.5)\n",
            "Requirement already satisfied: tokenizers<0.20,>=0.19 in /usr/local/lib/python3.10/dist-packages (from transformers) (0.19.1)\n",
            "Requirement already satisfied: tqdm>=4.27 in /usr/local/lib/python3.10/dist-packages (from transformers) (4.66.5)\n",
            "Requirement already satisfied: fsspec>=2023.5.0 in /usr/local/lib/python3.10/dist-packages (from huggingface-hub<1.0,>=0.23.2->transformers) (2024.6.1)\n",
            "Requirement already satisfied: typing-extensions>=3.7.4.3 in /usr/local/lib/python3.10/dist-packages (from huggingface-hub<1.0,>=0.23.2->transformers) (4.12.2)\n",
            "Requirement already satisfied: charset-normalizer<4,>=2 in /usr/local/lib/python3.10/dist-packages (from requests->transformers) (3.3.2)\n",
            "Requirement already satisfied: idna<4,>=2.5 in /usr/local/lib/python3.10/dist-packages (from requests->transformers) (3.10)\n",
            "Requirement already satisfied: urllib3<3,>=1.21.1 in /usr/local/lib/python3.10/dist-packages (from requests->transformers) (2.2.3)\n",
            "Requirement already satisfied: certifi>=2017.4.17 in /usr/local/lib/python3.10/dist-packages (from requests->transformers) (2024.8.30)\n"
          ]
        }
      ]
    },
    {
      "cell_type": "code",
      "source": [
        "from transformers import pipeline\n",
        "\n",
        "# Load the summarization pipeline\n",
        "summarizer = pipeline('summarization')"
      ],
      "metadata": {
        "colab": {
          "base_uri": "https://localhost:8080/"
        },
        "collapsed": true,
        "id": "ICHjNMVBP5jk",
        "outputId": "14237a97-a0ba-44f0-a5ef-df79449fa871"
      },
      "execution_count": 39,
      "outputs": [
        {
          "output_type": "stream",
          "name": "stderr",
          "text": [
            "No model was supplied, defaulted to sshleifer/distilbart-cnn-12-6 and revision a4f8f3e (https://huggingface.co/sshleifer/distilbart-cnn-12-6).\n",
            "Using a pipeline without specifying a model name and revision in production is not recommended.\n",
            "/usr/local/lib/python3.10/dist-packages/transformers/tokenization_utils_base.py:1601: FutureWarning: `clean_up_tokenization_spaces` was not set. It will be set to `True` by default. This behavior will be depracted in transformers v4.45, and will be then set to `False` by default. For more details check this issue: https://github.com/huggingface/transformers/issues/31884\n",
            "  warnings.warn(\n"
          ]
        }
      ]
    },
    {
      "cell_type": "code",
      "source": [
        "def summarize_text(text):\n",
        "    if text:\n",
        "        return summarizer(text, max_length=60, min_length=20, do_sample=False)[0]['summary_text']\n",
        "    return ''\n",
        "\n",
        "# Limit the number of articles to summarize\n",
        "df_subset = df.head(20)\n",
        "\n",
        "# Apply summarization on the cleaned content\n",
        "df_subset['summary'] = df_subset['cleaned_content'].apply(summarize_text)"
      ],
      "metadata": {
        "colab": {
          "base_uri": "https://localhost:8080/"
        },
        "collapsed": true,
        "id": "KF51Pxn5S9-1",
        "outputId": "4f2339cd-2676-497e-e39a-4c7f1b2f9522"
      },
      "execution_count": 40,
      "outputs": [
        {
          "output_type": "stream",
          "name": "stderr",
          "text": [
            "Your max_length is set to 60, but your input_length is only 22. Since this is a summarization task, where outputs shorter than the input are typically wanted, you might consider decreasing max_length manually, e.g. summarizer('...', max_length=11)\n",
            "Your max_length is set to 60, but your input_length is only 27. Since this is a summarization task, where outputs shorter than the input are typically wanted, you might consider decreasing max_length manually, e.g. summarizer('...', max_length=13)\n",
            "Your max_length is set to 60, but your input_length is only 22. Since this is a summarization task, where outputs shorter than the input are typically wanted, you might consider decreasing max_length manually, e.g. summarizer('...', max_length=11)\n",
            "Your max_length is set to 60, but your input_length is only 27. Since this is a summarization task, where outputs shorter than the input are typically wanted, you might consider decreasing max_length manually, e.g. summarizer('...', max_length=13)\n",
            "Your max_length is set to 60, but your input_length is only 21. Since this is a summarization task, where outputs shorter than the input are typically wanted, you might consider decreasing max_length manually, e.g. summarizer('...', max_length=10)\n",
            "Your max_length is set to 60, but your input_length is only 25. Since this is a summarization task, where outputs shorter than the input are typically wanted, you might consider decreasing max_length manually, e.g. summarizer('...', max_length=12)\n",
            "Your max_length is set to 60, but your input_length is only 32. Since this is a summarization task, where outputs shorter than the input are typically wanted, you might consider decreasing max_length manually, e.g. summarizer('...', max_length=16)\n",
            "Your max_length is set to 60, but your input_length is only 29. Since this is a summarization task, where outputs shorter than the input are typically wanted, you might consider decreasing max_length manually, e.g. summarizer('...', max_length=14)\n",
            "Your max_length is set to 60, but your input_length is only 23. Since this is a summarization task, where outputs shorter than the input are typically wanted, you might consider decreasing max_length manually, e.g. summarizer('...', max_length=11)\n",
            "Your max_length is set to 60, but your input_length is only 22. Since this is a summarization task, where outputs shorter than the input are typically wanted, you might consider decreasing max_length manually, e.g. summarizer('...', max_length=11)\n",
            "Your max_length is set to 60, but your input_length is only 30. Since this is a summarization task, where outputs shorter than the input are typically wanted, you might consider decreasing max_length manually, e.g. summarizer('...', max_length=15)\n",
            "Your max_length is set to 60, but your input_length is only 20. Since this is a summarization task, where outputs shorter than the input are typically wanted, you might consider decreasing max_length manually, e.g. summarizer('...', max_length=10)\n",
            "Your max_length is set to 60, but your input_length is only 22. Since this is a summarization task, where outputs shorter than the input are typically wanted, you might consider decreasing max_length manually, e.g. summarizer('...', max_length=11)\n",
            "Your max_length is set to 60, but your input_length is only 24. Since this is a summarization task, where outputs shorter than the input are typically wanted, you might consider decreasing max_length manually, e.g. summarizer('...', max_length=12)\n",
            "Your max_length is set to 60, but your input_length is only 29. Since this is a summarization task, where outputs shorter than the input are typically wanted, you might consider decreasing max_length manually, e.g. summarizer('...', max_length=14)\n",
            "Your max_length is set to 60, but your input_length is only 26. Since this is a summarization task, where outputs shorter than the input are typically wanted, you might consider decreasing max_length manually, e.g. summarizer('...', max_length=13)\n",
            "Your max_length is set to 60, but your input_length is only 31. Since this is a summarization task, where outputs shorter than the input are typically wanted, you might consider decreasing max_length manually, e.g. summarizer('...', max_length=15)\n",
            "Your max_length is set to 60, but your input_length is only 25. Since this is a summarization task, where outputs shorter than the input are typically wanted, you might consider decreasing max_length manually, e.g. summarizer('...', max_length=12)\n",
            "Your max_length is set to 60, but your input_length is only 26. Since this is a summarization task, where outputs shorter than the input are typically wanted, you might consider decreasing max_length manually, e.g. summarizer('...', max_length=13)\n",
            "Your max_length is set to 60, but your input_length is only 28. Since this is a summarization task, where outputs shorter than the input are typically wanted, you might consider decreasing max_length manually, e.g. summarizer('...', max_length=14)\n",
            "<ipython-input-40-f37bd5549e97>:10: SettingWithCopyWarning: \n",
            "A value is trying to be set on a copy of a slice from a DataFrame.\n",
            "Try using .loc[row_indexer,col_indexer] = value instead\n",
            "\n",
            "See the caveats in the documentation: https://pandas.pydata.org/pandas-docs/stable/user_guide/indexing.html#returning-a-view-versus-a-copy\n",
            "  df_subset['summary'] = df_subset['cleaned_content'].apply(summarize_text)\n"
          ]
        }
      ]
    },
    {
      "cell_type": "code",
      "source": [
        "# Print the summary of the first few articles\n",
        "print(df_subset[['title', 'summary']].head())"
      ],
      "metadata": {
        "colab": {
          "base_uri": "https://localhost:8080/"
        },
        "id": "B-619CEZS_Cb",
        "outputId": "01c1b765-a249-4818-8d0e-e84196969dff"
      },
      "execution_count": 41,
      "outputs": [
        {
          "output_type": "stream",
          "name": "stdout",
          "text": [
            "                                               title  \\\n",
            "0              U.S. Faces Critical IV Fluid Shortage   \n",
            "1  Get ready for a dockworker strike that could d...   \n",
            "2  There's already a queue of cargo ships backing...   \n",
            "3  New Jersey hits pause on an offshore wind farm...   \n",
            "4  East Coast Port Strikes: What Businesses Can D...   \n",
            "\n",
            "                                             summary  \n",
            "0   Hospitals across U.S. facing shortages iv flu...  \n",
            "1   International longshoreman association strike...  \n",
            "2   dockworkers strike immediate effect flow of g...  \n",
            "3   trenton new jersey hit pause button wednesday...  \n",
            "4   port standstill gets to port terminals around...  \n"
          ]
        }
      ]
    },
    {
      "cell_type": "markdown",
      "source": [
        "**Graph Construction for Supply Chain Risk Visualization**"
      ],
      "metadata": {
        "id": "Fkr9CVgLhXVm"
      }
    },
    {
      "cell_type": "code",
      "source": [
        "import networkx as nx\n",
        "import matplotlib.pyplot as plt\n",
        "\n",
        "# Create a graph where nodes are entities (regions, suppliers)\n",
        "G = nx.Graph()\n",
        "\n",
        "# Add edges based on entities in each article\n",
        "for _, row in df.iterrows():\n",
        "    entities = [ent[0] for ent in row['entities'] if ent[1] in ['ORG', 'GPE']]  # Only include organizations and geopolitical entities\n",
        "    for i in range(len(entities) - 1):\n",
        "        G.add_edge(entities[i], entities[i + 1], weight=1)"
      ],
      "metadata": {
        "id": "VZVcLPgVP7hg"
      },
      "execution_count": 42,
      "outputs": []
    },
    {
      "cell_type": "code",
      "source": [
        "# Plot the graph\n",
        "plt.figure(figsize=(10, 10))\n",
        "nx.draw(G, with_labels=True, node_color='lightblue', font_size=10)\n",
        "plt.show()"
      ],
      "metadata": {
        "colab": {
          "base_uri": "https://localhost:8080/",
          "height": 1000
        },
        "id": "zRQ348fuTKuU",
        "outputId": "4804359a-6364-42d6-91a5-e52215e3e695"
      },
      "execution_count": 43,
      "outputs": [
        {
          "output_type": "display_data",
          "data": {
            "text/plain": [
              "<Figure size 1000x1000 with 1 Axes>"
            ],
            "image/png": "[encoded data removed]"
          },
          "metadata": {}
        }
      ]
    },
    {
      "cell_type": "markdown",
      "source": [
        "**Risk Scoring and Suggestions**"
      ],
      "metadata": {
        "id": "ufiJtwkXheVK"
      }
    },
    {
      "cell_type": "code",
      "source": [
        "# Create a dictionary to track entity risk scores\n",
        "entity_risk = {}\n",
        "\n",
        "# Increase risk score for each entity based on mentions\n",
        "for _, row in df.iterrows():\n",
        "    for entity in row['entities']:\n",
        "        if entity[0] not in entity_risk:\n",
        "            entity_risk[entity[0]] = 0\n",
        "        entity_risk[entity[0]] += 1\n",
        "\n",
        "# Function to suggest alternative suppliers based on risk\n",
        "def suggest_alternatives(risky_entity):\n",
        "    sorted_risk = sorted(entity_risk.items(), key=lambda x: x[1])\n",
        "    alternatives = [ent for ent, score in sorted_risk if ent != risky_entity][:3]\n",
        "    return alternatives"
      ],
      "metadata": {
        "id": "-ocgrqgCQAdm"
      },
      "execution_count": 44,
      "outputs": []
    },
    {
      "cell_type": "code",
      "source": [
        "# Example usage: Suggest alternatives for a risky supplier\n",
        "risky_supplier = 'SupplierA'\n",
        "alternatives = suggest_alternatives(risky_supplier)\n",
        "print(f\"Alternatives for {risky_supplier}: {alternatives}\")"
      ],
      "metadata": {
        "colab": {
          "base_uri": "https://localhost:8080/"
        },
        "id": "eAxCh0isSe98",
        "outputId": "8b54e830-3761-4836-eecb-be781841665f"
      },
      "execution_count": 45,
      "outputs": [
        {
          "output_type": "stream",
          "name": "stdout",
          "text": [
            "Alternatives for SupplierA: ['li international longshoreman association', 'october 1', 'jersey board']\n"
          ]
        }
      ]
    },
    {
      "cell_type": "code",
      "source": [],
      "metadata": {
        "id": "EDPByz3AhiAO"
      },
      "execution_count": 45,
      "outputs": []
    }
  ]
}